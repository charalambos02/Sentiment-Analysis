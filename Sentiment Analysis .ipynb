{
 "cells": [
  {
   "cell_type": "code",
   "execution_count": null,
   "id": "a266a114",
   "metadata": {},
   "outputs": [],
   "source": [
    "import pandas as pd\n",
    "import torch\n",
    "from transformers import BertTokenizer, BertForSequenceClassification\n",
    "from textblob import TextBlob\n",
    "\n",
    "# Download a pre-trained BERT model for sentiment analysis\n",
    "model_name = \"bert-base-uncased\"\n",
    "tokenizer = BertTokenizer.from_pretrained(model_name)\n",
    "model = BertForSequenceClassification.from_pretrained(model_name)\n",
    "\n",
    "# Function to analyze sentiment using BERT\n",
    "def analyze_sentiment_bert(text):\n",
    "    inputs = tokenizer(text, return_tensors=\"pt\", padding=True, truncation=True)\n",
    "    outputs = model(**inputs)\n",
    "    logits = outputs.logits\n",
    "    sentiment_score = torch.sigmoid(logits).tolist()[0]\n",
    "    return sentiment_score\n",
    "\n",
    "# Function to classify sentiment\n",
    "def classify_sentiment(score):\n",
    "    if score > 0.7:\n",
    "        return \"Positive\"\n",
    "    elif score < 0.3:\n",
    "        return \"Negative\"\n",
    "    else:\n",
    "        return \"Neutral\"\n",
    "\n",
    "# Example: Fetch real-time financial news from a real API\n",
    "# Replace the URL below with the actual API endpoint for financial news\n",
    "api_url = \"https://your-financial-news-api.com/financial-news\"\n",
    "response = requests.get(api_url)\n",
    "news_data = response.json()\n",
    "\n",
    "# Create a DataFrame to store news data\n",
    "data = {\"Title\": [], \"Content\": []}\n",
    "for news_item in news_data:\n",
    "    data[\"Title\"].append(news_item['title'])\n",
    "    data[\"Content\"].append(news_item['content'])\n",
    "news_df = pd.DataFrame(data)\n",
    "\n",
    "# Analyze sentiment for each news article\n",
    "news_df['Sentiment Score'] = news_df['Title'].apply(analyze_sentiment_bert)\n",
    "\n",
    "# Classify sentiment\n",
    "news_df['Sentiment'] = news_df['Sentiment Score'].apply(classify_sentiment)\n",
    "\n",
    "# Analyze sentiment using TextBlob\n",
    "news_df['TextBlob Sentiment'] = news_df['Title'].apply(lambda x: TextBlob(x).sentiment.polarity)\n",
    "\n",
    "# Display the results\n",
    "print(news_df)"
   ]
  }
 ],
 "metadata": {
  "kernelspec": {
   "display_name": "Python 3 (ipykernel)",
   "language": "python",
   "name": "python3"
  },
  "language_info": {
   "codemirror_mode": {
    "name": "ipython",
    "version": 3
   },
   "file_extension": ".py",
   "mimetype": "text/x-python",
   "name": "python",
   "nbconvert_exporter": "python",
   "pygments_lexer": "ipython3",
   "version": "3.7.7"
  }
 },
 "nbformat": 4,
 "nbformat_minor": 5
}
